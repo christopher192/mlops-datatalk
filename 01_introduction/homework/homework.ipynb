{
 "cells": [
  {
   "cell_type": "markdown",
   "metadata": {},
   "source": [
    "## 01. Introduction Homework"
   ]
  },
  {
   "cell_type": "code",
   "execution_count": 20,
   "metadata": {},
   "outputs": [],
   "source": [
    "# import libraries\n",
    "import numpy as np\n",
    "import pandas as pd"
   ]
  },
  {
   "cell_type": "markdown",
   "metadata": {},
   "source": [
    "#### Q1. Downloading the data"
   ]
  },
  {
   "cell_type": "code",
   "execution_count": 21,
   "metadata": {},
   "outputs": [
    {
     "name": "stdout",
     "output_type": "stream",
     "text": [
      "jan 2023: 19, feb 2023: 19.\n"
     ]
    }
   ],
   "source": [
    "df_jan_2023 = pd.read_parquet('../../data/yellow_tripdata_2023-01.parquet')\n",
    "df_feb_2023 = pd.read_parquet('../../data/yellow_tripdata_2023-02.parquet')\n",
    "\n",
    "print(f\"jan 2023: {len(df_jan_2023.columns)}, feb 2023: {len(df_feb_2023.columns)}.\")"
   ]
  },
  {
   "cell_type": "markdown",
   "metadata": {},
   "source": [
    "#### Q2. Computing duration"
   ]
  },
  {
   "cell_type": "code",
   "execution_count": 28,
   "metadata": {},
   "outputs": [
    {
     "name": "stdout",
     "output_type": "stream",
     "text": [
      "42.59\n"
     ]
    }
   ],
   "source": [
    "df_jan_2023['duration'] = df_jan_2023.tpep_dropoff_datetime - df_jan_2023.tpep_pickup_datetime\n",
    "df_jan_2023.duration = df_jan_2023.duration.apply(lambda td: td.total_seconds() / 60)\n",
    "std_dev = df_jan_2023['duration'].std()\n",
    "\n",
    "print(np.round(std_dev, 2))"
   ]
  },
  {
   "cell_type": "markdown",
   "metadata": {},
   "source": [
    "#### Q3. Dropping outliers"
   ]
  },
  {
   "cell_type": "code",
   "execution_count": 29,
   "metadata": {},
   "outputs": [
    {
     "name": "stdout",
     "output_type": "stream",
     "text": [
      "0.9812202822125979\n"
     ]
    }
   ],
   "source": [
    "# filter the DataFrame to remove outliers\n",
    "df_filtered = df_jan_2023[(df_jan_2023['duration'] >= 1) & (df_jan_2023['duration'] <= 60)]\n",
    "\n",
    "# calculate the fraction of the records left\n",
    "fraction_left = len(df_filtered) / len(df_jan_2023)\n",
    "\n",
    "print(fraction_left)"
   ]
  },
  {
   "cell_type": "markdown",
   "metadata": {},
   "source": [
    "#### Q4. One-hot encoding"
   ]
  },
  {
   "cell_type": "code",
   "execution_count": null,
   "metadata": {},
   "outputs": [],
   "source": []
  }
 ],
 "metadata": {
  "kernelspec": {
   "display_name": "mlflow",
   "language": "python",
   "name": "python3"
  },
  "language_info": {
   "codemirror_mode": {
    "name": "ipython",
    "version": 3
   },
   "file_extension": ".py",
   "mimetype": "text/x-python",
   "name": "python",
   "nbconvert_exporter": "python",
   "pygments_lexer": "ipython3",
   "version": "3.11.9"
  }
 },
 "nbformat": 4,
 "nbformat_minor": 2
}
